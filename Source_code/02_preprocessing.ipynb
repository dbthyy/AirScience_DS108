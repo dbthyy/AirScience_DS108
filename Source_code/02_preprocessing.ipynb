{
 "cells": [
  {
   "cell_type": "code",
   "execution_count": 1,
   "id": "dc3d7464",
   "metadata": {},
   "outputs": [],
   "source": [
    "import re\n",
    "import pandas as pd\n",
    "import numpy as np"
   ]
  },
  {
   "cell_type": "markdown",
   "id": "92c82c96",
   "metadata": {},
   "source": [
    "# PREPROCESSING"
   ]
  },
  {
   "cell_type": "code",
   "execution_count": 2,
   "id": "5fec53ed",
   "metadata": {},
   "outputs": [],
   "source": [
    "df = pd.read_csv('merged_file.csv')"
   ]
  },
  {
   "cell_type": "markdown",
   "metadata": {},
   "source": [
    "## check duplicates"
   ]
  },
  {
   "cell_type": "code",
   "execution_count": 3,
   "metadata": {},
   "outputs": [
    {
     "data": {
      "text/plain": [
       "np.int64(4394)"
      ]
     },
     "execution_count": 3,
     "metadata": {},
     "output_type": "execute_result"
    }
   ],
   "source": [
    "df.duplicated().sum()"
   ]
  },
  {
   "cell_type": "code",
   "execution_count": 4,
   "id": "81a7abdf",
   "metadata": {},
   "outputs": [
    {
     "data": {
      "text/plain": [
       "(44714, 12)"
      ]
     },
     "execution_count": 4,
     "metadata": {},
     "output_type": "execute_result"
    }
   ],
   "source": [
    "df = df.drop_duplicates(keep='first').reset_index(drop=True)\n",
    "df.shape"
   ]
  },
  {
   "cell_type": "code",
   "execution_count": 5,
   "id": "338d9c6c",
   "metadata": {},
   "outputs": [
    {
     "name": "stdout",
     "output_type": "stream",
     "text": [
      "<class 'pandas.core.frame.DataFrame'>\n",
      "RangeIndex: 44714 entries, 0 to 44713\n",
      "Data columns (total 12 columns):\n",
      " #   Column           Non-Null Count  Dtype \n",
      "---  ------           --------------  ----- \n",
      " 0   id               44714 non-null  object\n",
      " 1   brand            44714 non-null  object\n",
      " 2   price            44714 non-null  object\n",
      " 3   start_time       44714 non-null  object\n",
      " 4   start_day        44714 non-null  object\n",
      " 5   end_time         44714 non-null  object\n",
      " 6   end_day          44714 non-null  object\n",
      " 7   trip_time        44714 non-null  object\n",
      " 8   destination      44714 non-null  object\n",
      " 9   checked_baggage  36071 non-null  object\n",
      " 10  hand_luggage     36071 non-null  object\n",
      " 11  crawl_date       44714 non-null  object\n",
      "dtypes: object(12)\n",
      "memory usage: 4.1+ MB\n"
     ]
    }
   ],
   "source": [
    "df.info()"
   ]
  },
  {
   "cell_type": "markdown",
   "id": "3c8f5f62",
   "metadata": {},
   "source": [
    "## Take_place, Destination"
   ]
  },
  {
   "cell_type": "code",
   "execution_count": 6,
   "id": "0002e78b",
   "metadata": {},
   "outputs": [
    {
     "data": {
      "text/plain": [
       "array(['Nha Trang (CXR)\\nSân bay Cam Ranh',\n",
       "       'Đà Nẵng (DAD)\\nSân bay Đà Nẵng',\n",
       "       'Hà Nội (HAN)\\r\\nSân bay Nội Bài',\n",
       "       'Hà Nội (HAN)\\r\\nSân bay Nội Bài\\r\\nNhà ga 1',\n",
       "       'Hải Phòng (HPH)\\nSân bay quốc tế Cát Bi',\n",
       "       'Phú Quốc (PQC)\\nSân bay Phú Quốc'], dtype=object)"
      ]
     },
     "execution_count": 6,
     "metadata": {},
     "output_type": "execute_result"
    }
   ],
   "source": [
    "df['destination'].unique()"
   ]
  },
  {
   "cell_type": "code",
   "execution_count": 7,
   "id": "1f35d879",
   "metadata": {},
   "outputs": [
    {
     "data": {
      "text/plain": [
       "destination\n",
       "Hà Nội (HAN)\\r\\nSân bay Nội Bài            19282\n",
       "Đà Nẵng (DAD)\\nSân bay Đà Nẵng             12801\n",
       "Phú Quốc (PQC)\\nSân bay Phú Quốc            5273\n",
       "Hải Phòng (HPH)\\nSân bay quốc tế Cát Bi     4186\n",
       "Nha Trang (CXR)\\nSân bay Cam Ranh           3172\n",
       "Name: count, dtype: int64"
      ]
     },
     "execution_count": 7,
     "metadata": {},
     "output_type": "execute_result"
    }
   ],
   "source": [
    "df['destination'] = df['destination'].replace(\n",
    "    'Hà Nội (HAN)\\r\\nSân bay Nội Bài\\r\\nNhà ga 1',\n",
    "    'Hà Nội (HAN)\\r\\nSân bay Nội Bài'\n",
    ")\n",
    "df['destination'].value_counts()"
   ]
  },
  {
   "cell_type": "markdown",
   "id": "ed5cccaa",
   "metadata": {},
   "source": [
    "## brand"
   ]
  },
  {
   "cell_type": "code",
   "execution_count": 8,
   "id": "66282642",
   "metadata": {},
   "outputs": [
    {
     "data": {
      "text/plain": [
       "(4,\n",
       " array(['VietJet Air', 'Vietnam Airlines', 'Bamboo Airways',\n",
       "        'Vietravel Airlines'], dtype=object))"
      ]
     },
     "execution_count": 8,
     "metadata": {},
     "output_type": "execute_result"
    }
   ],
   "source": [
    "df['brand'].nunique(), df['brand'].unique()"
   ]
  },
  {
   "cell_type": "markdown",
   "id": "8f81e081",
   "metadata": {},
   "source": [
    "## price"
   ]
  },
  {
   "cell_type": "code",
   "execution_count": 9,
   "id": "cf89c153",
   "metadata": {},
   "outputs": [
    {
     "data": {
      "text/plain": [
       "0    1.892.258 VND/khách\n",
       "1    1.431.413 VND/khách\n",
       "2    1.327.929 VND/khách\n",
       "3    1.283.783 VND/khách\n",
       "4    1.285.778 VND/khách\n",
       "Name: price, dtype: object"
      ]
     },
     "execution_count": 9,
     "metadata": {},
     "output_type": "execute_result"
    }
   ],
   "source": [
    "df['price'].head()"
   ]
  },
  {
   "cell_type": "code",
   "execution_count": 10,
   "id": "e4cc8c59",
   "metadata": {},
   "outputs": [
    {
     "data": {
      "text/plain": [
       "0    1892258\n",
       "1    1431413\n",
       "2    1327929\n",
       "3    1283783\n",
       "4    1285778\n",
       "Name: price, dtype: int64"
      ]
     },
     "execution_count": 10,
     "metadata": {},
     "output_type": "execute_result"
    }
   ],
   "source": [
    "# Clean and convert the price column\n",
    "df['price'] = df['price'].str.extract(r'([\\d\\.]+)')\n",
    "df['price'] = df['price'].str.replace('.', '', regex=False).astype(int)\n",
    "df['price'].head()"
   ]
  },
  {
   "cell_type": "markdown",
   "id": "53841782",
   "metadata": {},
   "source": [
    "## time"
   ]
  },
  {
   "cell_type": "code",
   "execution_count": 11,
   "metadata": {},
   "outputs": [],
   "source": [
    "df['start_time'] = df['start_time'].str.replace('h', ':')\n",
    "df['end_time'] = df['end_time'].str.replace('h', ':')"
   ]
  },
  {
   "cell_type": "code",
   "execution_count": 12,
   "id": "f82f8c38",
   "metadata": {},
   "outputs": [
    {
     "data": {
      "text/html": [
       "<div>\n",
       "<style scoped>\n",
       "    .dataframe tbody tr th:only-of-type {\n",
       "        vertical-align: middle;\n",
       "    }\n",
       "\n",
       "    .dataframe tbody tr th {\n",
       "        vertical-align: top;\n",
       "    }\n",
       "\n",
       "    .dataframe thead th {\n",
       "        text-align: right;\n",
       "    }\n",
       "</style>\n",
       "<table border=\"1\" class=\"dataframe\">\n",
       "  <thead>\n",
       "    <tr style=\"text-align: right;\">\n",
       "      <th></th>\n",
       "      <th>start_time</th>\n",
       "      <th>start_hour</th>\n",
       "      <th>end_time</th>\n",
       "      <th>end_hour</th>\n",
       "    </tr>\n",
       "  </thead>\n",
       "  <tbody>\n",
       "    <tr>\n",
       "      <th>0</th>\n",
       "      <td>10:20</td>\n",
       "      <td>10</td>\n",
       "      <td>11:20</td>\n",
       "      <td>11</td>\n",
       "    </tr>\n",
       "    <tr>\n",
       "      <th>1</th>\n",
       "      <td>10:20</td>\n",
       "      <td>10</td>\n",
       "      <td>11:20</td>\n",
       "      <td>11</td>\n",
       "    </tr>\n",
       "    <tr>\n",
       "      <th>2</th>\n",
       "      <td>10:20</td>\n",
       "      <td>10</td>\n",
       "      <td>11:20</td>\n",
       "      <td>11</td>\n",
       "    </tr>\n",
       "    <tr>\n",
       "      <th>3</th>\n",
       "      <td>10:20</td>\n",
       "      <td>10</td>\n",
       "      <td>11:20</td>\n",
       "      <td>11</td>\n",
       "    </tr>\n",
       "    <tr>\n",
       "      <th>4</th>\n",
       "      <td>10:20</td>\n",
       "      <td>10</td>\n",
       "      <td>11:20</td>\n",
       "      <td>11</td>\n",
       "    </tr>\n",
       "  </tbody>\n",
       "</table>\n",
       "</div>"
      ],
      "text/plain": [
       "  start_time  start_hour end_time  end_hour\n",
       "0      10:20          10    11:20        11\n",
       "1      10:20          10    11:20        11\n",
       "2      10:20          10    11:20        11\n",
       "3      10:20          10    11:20        11\n",
       "4      10:20          10    11:20        11"
      ]
     },
     "execution_count": 12,
     "metadata": {},
     "output_type": "execute_result"
    }
   ],
   "source": [
    "df['start_hour'] = df['start_time'].str.split(':').str[0].astype(int)\n",
    "df['end_hour'] = df['end_time'].str.split(':').str[0].astype(int)\n",
    "df[['start_time', 'start_hour', 'end_time', 'end_hour']].head()"
   ]
  },
  {
   "cell_type": "code",
   "execution_count": 13,
   "id": "1760bd85",
   "metadata": {},
   "outputs": [
    {
     "data": {
      "text/html": [
       "<div>\n",
       "<style scoped>\n",
       "    .dataframe tbody tr th:only-of-type {\n",
       "        vertical-align: middle;\n",
       "    }\n",
       "\n",
       "    .dataframe tbody tr th {\n",
       "        vertical-align: top;\n",
       "    }\n",
       "\n",
       "    .dataframe thead th {\n",
       "        text-align: right;\n",
       "    }\n",
       "</style>\n",
       "<table border=\"1\" class=\"dataframe\">\n",
       "  <thead>\n",
       "    <tr style=\"text-align: right;\">\n",
       "      <th></th>\n",
       "      <th>start_time</th>\n",
       "      <th>start_hour</th>\n",
       "      <th>end_time</th>\n",
       "      <th>end_hour</th>\n",
       "    </tr>\n",
       "  </thead>\n",
       "  <tbody>\n",
       "    <tr>\n",
       "      <th>0</th>\n",
       "      <td>10:20</td>\n",
       "      <td>Afternoon</td>\n",
       "      <td>11:20</td>\n",
       "      <td>Afternoon</td>\n",
       "    </tr>\n",
       "    <tr>\n",
       "      <th>1</th>\n",
       "      <td>10:20</td>\n",
       "      <td>Afternoon</td>\n",
       "      <td>11:20</td>\n",
       "      <td>Afternoon</td>\n",
       "    </tr>\n",
       "    <tr>\n",
       "      <th>2</th>\n",
       "      <td>10:20</td>\n",
       "      <td>Afternoon</td>\n",
       "      <td>11:20</td>\n",
       "      <td>Afternoon</td>\n",
       "    </tr>\n",
       "    <tr>\n",
       "      <th>3</th>\n",
       "      <td>10:20</td>\n",
       "      <td>Afternoon</td>\n",
       "      <td>11:20</td>\n",
       "      <td>Afternoon</td>\n",
       "    </tr>\n",
       "    <tr>\n",
       "      <th>4</th>\n",
       "      <td>10:20</td>\n",
       "      <td>Afternoon</td>\n",
       "      <td>11:20</td>\n",
       "      <td>Afternoon</td>\n",
       "    </tr>\n",
       "  </tbody>\n",
       "</table>\n",
       "</div>"
      ],
      "text/plain": [
       "  start_time start_hour end_time   end_hour\n",
       "0      10:20  Afternoon    11:20  Afternoon\n",
       "1      10:20  Afternoon    11:20  Afternoon\n",
       "2      10:20  Afternoon    11:20  Afternoon\n",
       "3      10:20  Afternoon    11:20  Afternoon\n",
       "4      10:20  Afternoon    11:20  Afternoon"
      ]
     },
     "execution_count": 13,
     "metadata": {},
     "output_type": "execute_result"
    }
   ],
   "source": [
    "df['start_hour'] = pd.cut(\n",
    "    df['start_hour'],\n",
    "    bins=[0, 3, 9, 15, 21, 24],\n",
    "    labels=['EarlyMorning', 'Morning', 'Afternoon', 'Evening', 'LateNight'],\n",
    "    include_lowest=True\n",
    ")\n",
    "df['end_hour'] = pd.cut(\n",
    "    df['end_hour'],\n",
    "    bins=[0, 3, 9, 15, 21, 24],\n",
    "    labels=['EarlyMorning', 'Morning', 'Afternoon', 'Evening', 'LateNight'],\n",
    "    include_lowest=True\n",
    ")\n",
    "df[['start_time', 'start_hour', 'end_time', 'end_hour']].head()"
   ]
  },
  {
   "cell_type": "code",
   "execution_count": 14,
   "id": "833a86ce",
   "metadata": {},
   "outputs": [
    {
     "data": {
      "text/plain": [
       "trip_time  trip_mins\n",
       "2h 10m     130.0        11287\n",
       "2h 5m      125.0         8404\n",
       "1h 25m     85.0          6576\n",
       "1h 20m     80.0          4871\n",
       "1h 0m      60.0          4751\n",
       "2h 0m      120.0         3341\n",
       "1h 5m      65.0          2602\n",
       "1h 15m     75.0           905\n",
       "1h 30m     90.0           760\n",
       "55m        55.0           447\n",
       "1h 55m     115.0          409\n",
       "45m        45.0           334\n",
       "2h 15m     135.0           26\n",
       "2h 25m     145.0            1\n",
       "Name: count, dtype: int64"
      ]
     },
     "execution_count": 14,
     "metadata": {},
     "output_type": "execute_result"
    }
   ],
   "source": [
    "time_parts = df['trip_time'].str.extract(\n",
    "    r'(?:(?P<hour>\\d+)h)?\\s*(?:(?P<minute>\\d+)m)?')\n",
    "time_parts = time_parts.astype(float).fillna(0)\n",
    "\n",
    "df['trip_mins'] = time_parts['hour'] * 60 + time_parts['minute']\n",
    "\n",
    "df[['trip_time', 'trip_mins']].value_counts()"
   ]
  },
  {
   "cell_type": "code",
   "execution_count": 15,
   "id": "91c70ad7",
   "metadata": {},
   "outputs": [],
   "source": [
    "df['trip_mins'] = df['trip_mins'].astype(int)\n",
    "df.drop(columns=['start_time', 'end_time', 'trip_time'], inplace=True)"
   ]
  },
  {
   "cell_type": "markdown",
   "id": "457802d4",
   "metadata": {},
   "source": [
    "## day"
   ]
  },
  {
   "cell_type": "code",
   "execution_count": 16,
   "id": "660b89f5",
   "metadata": {},
   "outputs": [
    {
     "data": {
      "text/plain": [
       "(array(['01 thg 5', '08 thg 5', '02 thg 5', '03 thg 5', '04 thg 5',\n",
       "        '05 thg 5', '06 thg 5', '07 thg 5', '09 thg 5', '10 thg 5',\n",
       "        '11 thg 5', '22 thg 4', '23 thg 4', '24 thg 4', '25 thg 4',\n",
       "        '26 thg 4', '27 thg 4', '28 thg 4', '29 thg 4', '30 thg 4',\n",
       "        '21 thg 4'], dtype=object),\n",
       " array(['01 thg 5', '08 thg 5', '02 thg 5', '03 thg 5', '04 thg 5',\n",
       "        '05 thg 5', '06 thg 5', '07 thg 5', '09 thg 5', '10 thg 5',\n",
       "        '11 thg 5', '22 thg 4', '23 thg 4', '24 thg 4', '25 thg 4',\n",
       "        '26 thg 4', '27 thg 4', '28 thg 4', '29 thg 4', '30 thg 4',\n",
       "        '21 thg 4', '12 thg 5'], dtype=object))"
      ]
     },
     "execution_count": 16,
     "metadata": {},
     "output_type": "execute_result"
    }
   ],
   "source": [
    "df['start_day'].unique(), df['end_day'].unique()"
   ]
  },
  {
   "cell_type": "code",
   "execution_count": 17,
   "id": "7a9787c2",
   "metadata": {},
   "outputs": [
    {
     "data": {
      "text/plain": [
       "array(['14-04-2025', '15-04-2025', '16-04-2025', '17-04-2025',\n",
       "       '18-04-2025', '11-04-2025', '12-04-2025', '13-04-2025',\n",
       "       '19-04-2025', '24-04-2025', '29-04-2025', '01-05-2025',\n",
       "       '20-04-2025', '21-04-2025', '22-04-2025', '23-04-2025',\n",
       "       '25-04-2025', '26-04-2025', '27-04-2025', '28-04-2025',\n",
       "       '30-04-2025', '02-05-2025', '03-05-2025', '04-05-2025',\n",
       "       '05-05-2025', '06-05-2025', '07-05-2025', '08-05-2025',\n",
       "       '09-05-2025', '07-04-2025', '08-04-2025', '09-04-2025',\n",
       "       '10-04-2025', '10-05-2025'], dtype=object)"
      ]
     },
     "execution_count": 17,
     "metadata": {},
     "output_type": "execute_result"
    }
   ],
   "source": [
    "df['crawl_date'].unique()"
   ]
  },
  {
   "cell_type": "code",
   "execution_count": 18,
   "id": "c35d21e2",
   "metadata": {},
   "outputs": [
    {
     "data": {
      "text/plain": [
       "(   start_day    end_day\n",
       " 0 2025-05-01 2025-05-01\n",
       " 1 2025-05-01 2025-05-01\n",
       " 2 2025-05-01 2025-05-01\n",
       " 3 2025-05-01 2025-05-01\n",
       " 4 2025-05-01 2025-05-01,\n",
       " dtype('<M8[ns]'),\n",
       " dtype('<M8[ns]'))"
      ]
     },
     "execution_count": 18,
     "metadata": {},
     "output_type": "execute_result"
    }
   ],
   "source": [
    "def convert_vn_date(date_str, year=2025):\n",
    "    day, month = date_str.strip().split(' thg ')\n",
    "    dt = pd.to_datetime(f\"{day}-{int(month):02d}-{year}\", dayfirst=True)\n",
    "    return dt\n",
    "\n",
    "\n",
    "df['start_day'] = df['start_day'].apply(lambda x: convert_vn_date(x, 2025))\n",
    "df['end_day'] = df['end_day'].apply(lambda x: convert_vn_date(x, 2025))\n",
    "df[['start_day', 'end_day']].head(), df['start_day'].dtype, df['end_day'].dtype"
   ]
  },
  {
   "cell_type": "code",
   "execution_count": 19,
   "id": "f0926744",
   "metadata": {},
   "outputs": [
    {
     "data": {
      "text/plain": [
       "start_day   is_holiday\n",
       "2025-05-05  0             2464\n",
       "2025-04-27  1             2424\n",
       "2025-05-02  2             2412\n",
       "2025-04-28  0             2366\n",
       "2025-05-03  2             2355\n",
       "Name: count, dtype: int64"
      ]
     },
     "execution_count": 19,
     "metadata": {},
     "output_type": "execute_result"
    }
   ],
   "source": [
    "holidays = [\n",
    "    pd.Timestamp('2025-04-30').date(),\n",
    "    pd.Timestamp('2025-05-01').date(),\n",
    "]\n",
    "\n",
    "nearby_holidays = [\n",
    "    pd.Timestamp('2025-04-29').date(),\n",
    "    pd.Timestamp('2025-05-02').date(),\n",
    "    pd.Timestamp('2025-05-03').date(),\n",
    "    pd.Timestamp('2025-05-04').date(),\n",
    "]\n",
    "\n",
    "\n",
    "def is_holiday(date):\n",
    "    d = date.date()\n",
    "    if d in holidays:\n",
    "        return 3\n",
    "    elif d in nearby_holidays:\n",
    "        return 2\n",
    "    elif d.weekday() >= 4:  # Friday = 4\n",
    "        return 1\n",
    "    else:\n",
    "        return 0\n",
    "\n",
    "\n",
    "df['is_holiday'] = df['start_day'].apply(is_holiday)\n",
    "df[['start_day', 'is_holiday']].value_counts().head(5)"
   ]
  },
  {
   "cell_type": "code",
   "execution_count": 20,
   "metadata": {},
   "outputs": [
    {
     "data": {
      "text/plain": [
       "dtype('<M8[ns]')"
      ]
     },
     "execution_count": 20,
     "metadata": {},
     "output_type": "execute_result"
    }
   ],
   "source": [
    "df['start_day'].dtype"
   ]
  },
  {
   "cell_type": "code",
   "execution_count": 21,
   "id": "cb71dd48",
   "metadata": {},
   "outputs": [
    {
     "data": {
      "text/plain": [
       "array(['14-04-2025', '15-04-2025', '16-04-2025', '17-04-2025',\n",
       "       '18-04-2025', '11-04-2025', '12-04-2025', '13-04-2025',\n",
       "       '19-04-2025', '24-04-2025', '29-04-2025', '01-05-2025',\n",
       "       '20-04-2025', '21-04-2025', '22-04-2025', '23-04-2025',\n",
       "       '25-04-2025', '26-04-2025', '27-04-2025', '28-04-2025',\n",
       "       '30-04-2025', '02-05-2025', '03-05-2025', '04-05-2025',\n",
       "       '05-05-2025', '06-05-2025', '07-05-2025', '08-05-2025',\n",
       "       '09-05-2025', '07-04-2025', '08-04-2025', '09-04-2025',\n",
       "       '10-04-2025', '10-05-2025'], dtype=object)"
      ]
     },
     "execution_count": 21,
     "metadata": {},
     "output_type": "execute_result"
    }
   ],
   "source": [
    "df['crawl_date'].unique()"
   ]
  },
  {
   "cell_type": "code",
   "execution_count": 22,
   "metadata": {},
   "outputs": [
    {
     "data": {
      "text/plain": [
       "(34,\n",
       " <DatetimeArray>\n",
       " ['2025-04-14 00:00:00', '2025-04-15 00:00:00', '2025-04-16 00:00:00',\n",
       "  '2025-04-17 00:00:00', '2025-04-18 00:00:00', '2025-04-11 00:00:00',\n",
       "  '2025-04-12 00:00:00', '2025-04-13 00:00:00', '2025-04-19 00:00:00',\n",
       "  '2025-04-24 00:00:00', '2025-04-29 00:00:00', '2025-05-01 00:00:00',\n",
       "  '2025-04-20 00:00:00', '2025-04-21 00:00:00', '2025-04-22 00:00:00',\n",
       "  '2025-04-23 00:00:00', '2025-04-25 00:00:00', '2025-04-26 00:00:00',\n",
       "  '2025-04-27 00:00:00', '2025-04-28 00:00:00', '2025-04-30 00:00:00',\n",
       "  '2025-05-02 00:00:00', '2025-05-03 00:00:00', '2025-05-04 00:00:00',\n",
       "  '2025-05-05 00:00:00', '2025-05-06 00:00:00', '2025-05-07 00:00:00',\n",
       "  '2025-05-08 00:00:00', '2025-05-09 00:00:00', '2025-04-07 00:00:00',\n",
       "  '2025-04-08 00:00:00', '2025-04-09 00:00:00', '2025-04-10 00:00:00',\n",
       "  '2025-05-10 00:00:00']\n",
       " Length: 34, dtype: datetime64[ns])"
      ]
     },
     "execution_count": 22,
     "metadata": {},
     "output_type": "execute_result"
    }
   ],
   "source": [
    "df['crawl_date'] = pd.to_datetime(\n",
    "    df['crawl_date'],\n",
    "    format='%d-%m-%Y',\n",
    "    errors='coerce')\n",
    "df['crawl_date'].nunique(), df['crawl_date'].unique()"
   ]
  },
  {
   "cell_type": "code",
   "execution_count": 23,
   "id": "5e9ba026",
   "metadata": {},
   "outputs": [
    {
     "data": {
      "text/plain": [
       "start_day   crawl_date  days_left\n",
       "2025-05-05  2025-04-22  13           132\n",
       "2025-04-28  2025-04-23  5            132\n",
       "            2025-04-17  11           132\n",
       "            2025-04-22  6            132\n",
       "2025-05-05  2025-04-20  15           131\n",
       "Name: count, dtype: int64"
      ]
     },
     "execution_count": 23,
     "metadata": {},
     "output_type": "execute_result"
    }
   ],
   "source": [
    "df['days_left'] = (\n",
    "    pd.to_datetime(\n",
    "        df['start_day']) -\n",
    "    pd.to_datetime(\n",
    "        df['crawl_date'])).dt.days\n",
    "df[['start_day', 'crawl_date', 'days_left']].value_counts().head()"
   ]
  },
  {
   "cell_type": "code",
   "execution_count": 24,
   "id": "28fddb9a",
   "metadata": {},
   "outputs": [
    {
     "data": {
      "text/plain": [
       "days_left\n",
       "11    2431\n",
       "10    2427\n",
       "8     2412\n",
       "9     2401\n",
       "12    2392\n",
       "14    2381\n",
       "13    2339\n",
       "5     2323\n",
       "7     2313\n",
       "6     2299\n",
       "4     2298\n",
       "15    2247\n",
       "3     2207\n",
       "2     2172\n",
       "16    2059\n",
       "1     1970\n",
       "17    1940\n",
       "18    1868\n",
       "19    1634\n",
       "20    1549\n",
       "22     103\n",
       "24     103\n",
       "23     102\n",
       "25     100\n",
       "21      98\n",
       "28      97\n",
       "30      94\n",
       "29      94\n",
       "26      92\n",
       "27      92\n",
       "31      41\n",
       "32      12\n",
       "34      12\n",
       "33      12\n",
       "Name: count, dtype: int64"
      ]
     },
     "execution_count": 24,
     "metadata": {},
     "output_type": "execute_result"
    }
   ],
   "source": [
    "df['days_left'].value_counts()"
   ]
  },
  {
   "cell_type": "code",
   "execution_count": 25,
   "id": "42124458",
   "metadata": {},
   "outputs": [],
   "source": [
    "df.drop(columns=['start_day', 'end_day', 'crawl_date'], inplace=True)"
   ]
  },
  {
   "cell_type": "code",
   "execution_count": 26,
   "id": "e1fee1f2",
   "metadata": {},
   "outputs": [
    {
     "data": {
      "text/plain": [
       "id                    0\n",
       "brand                 0\n",
       "price                 0\n",
       "destination           0\n",
       "checked_baggage    8643\n",
       "hand_luggage       8643\n",
       "start_hour            0\n",
       "end_hour              0\n",
       "trip_mins             0\n",
       "is_holiday            0\n",
       "days_left             0\n",
       "dtype: int64"
      ]
     },
     "execution_count": 26,
     "metadata": {},
     "output_type": "execute_result"
    }
   ],
   "source": [
    "df.isna().sum()"
   ]
  },
  {
   "cell_type": "markdown",
   "id": "bd22f385",
   "metadata": {},
   "source": [
    "## luggage:"
   ]
  },
  {
   "cell_type": "code",
   "execution_count": 27,
   "metadata": {},
   "outputs": [
    {
     "data": {
      "text/plain": [
       "hand_luggage                checked_baggage  \n",
       "Hành lý xách tay 7 kg       Hành lý 0 kg         19506\n",
       "Hành lý xách tay 1 x 12 kg  Hành lý 23 kg         8476\n",
       "                            Hành lý 1 x 23 kg     6596\n",
       "Hành lý xách tay 7 kg       Hành lý 20 kg          442\n",
       "Hành lý xách tay 10 kg      Hành lý 1 x 23 kg      437\n",
       "                            Hành lý 23 kg          421\n",
       "Hành lý xách tay 1 x 12 kg  Hành lý 0 kg           189\n",
       "Hành lý xách tay 10 kg      Hành lý 0 kg             4\n",
       "Name: count, dtype: int64"
      ]
     },
     "execution_count": 27,
     "metadata": {},
     "output_type": "execute_result"
    }
   ],
   "source": [
    "df[['hand_luggage', 'checked_baggage']].value_counts()"
   ]
  },
  {
   "cell_type": "code",
   "execution_count": 28,
   "metadata": {},
   "outputs": [],
   "source": [
    "def format_lugggage(string):\n",
    "    if pd.isna(string):\n",
    "        return None\n",
    "    number = re.findall(r'\\d+', str(string))\n",
    "    if len(number) >= 2:  # ve co hanh ly xach tay format theo kien hang 1x12kg\n",
    "        return int(number[0]) * int(number[1])\n",
    "    elif len(number) == 1:\n",
    "        return int(number[0])\n",
    "    else:\n",
    "        return None\n",
    "\n",
    "\n",
    "column = ['checked_baggage', 'hand_luggage']\n",
    "for c in column:\n",
    "    df[c] = df[c].apply(format_lugggage)"
   ]
  },
  {
   "cell_type": "code",
   "execution_count": 29,
   "metadata": {},
   "outputs": [],
   "source": [
    "df['hand_luggage'] = df.groupby('id')['hand_luggage'] .transform(\n",
    "    lambda x: x.fillna(x.mode().iloc[0] if not x.mode().empty else np.nan))\n",
    "\n",
    "df['checked_baggage'] = df.groupby('id')['checked_baggage'] .transform(\n",
    "    lambda x: x.fillna(x.mode().iloc[0] if not x.mode().empty else np.nan))"
   ]
  },
  {
   "cell_type": "code",
   "execution_count": 30,
   "metadata": {},
   "outputs": [
    {
     "data": {
      "text/plain": [
       "hand_luggage       155\n",
       "checked_baggage    155\n",
       "dtype: int64"
      ]
     },
     "execution_count": 30,
     "metadata": {},
     "output_type": "execute_result"
    }
   ],
   "source": [
    "df[['hand_luggage', 'checked_baggage']].isnull().sum()"
   ]
  },
  {
   "cell_type": "code",
   "execution_count": 31,
   "metadata": {},
   "outputs": [
    {
     "data": {
      "text/html": [
       "<div>\n",
       "<style scoped>\n",
       "    .dataframe tbody tr th:only-of-type {\n",
       "        vertical-align: middle;\n",
       "    }\n",
       "\n",
       "    .dataframe tbody tr th {\n",
       "        vertical-align: top;\n",
       "    }\n",
       "\n",
       "    .dataframe thead th {\n",
       "        text-align: right;\n",
       "    }\n",
       "</style>\n",
       "<table border=\"1\" class=\"dataframe\">\n",
       "  <thead>\n",
       "    <tr style=\"text-align: right;\">\n",
       "      <th></th>\n",
       "      <th>id</th>\n",
       "      <th>brand</th>\n",
       "      <th>price</th>\n",
       "      <th>destination</th>\n",
       "      <th>checked_baggage</th>\n",
       "      <th>hand_luggage</th>\n",
       "      <th>start_hour</th>\n",
       "      <th>end_hour</th>\n",
       "      <th>trip_mins</th>\n",
       "      <th>is_holiday</th>\n",
       "      <th>days_left</th>\n",
       "    </tr>\n",
       "  </thead>\n",
       "  <tbody>\n",
       "    <tr>\n",
       "      <th>5</th>\n",
       "      <td>CXR0002</td>\n",
       "      <td>VietJet Air</td>\n",
       "      <td>818157</td>\n",
       "      <td>Nha Trang (CXR)\\nSân bay Cam Ranh</td>\n",
       "      <td>NaN</td>\n",
       "      <td>NaN</td>\n",
       "      <td>Afternoon</td>\n",
       "      <td>Afternoon</td>\n",
       "      <td>60</td>\n",
       "      <td>0</td>\n",
       "      <td>20</td>\n",
       "    </tr>\n",
       "    <tr>\n",
       "      <th>225</th>\n",
       "      <td>CXR0015</td>\n",
       "      <td>VietJet Air</td>\n",
       "      <td>1286535</td>\n",
       "      <td>Nha Trang (CXR)\\nSân bay Cam Ranh</td>\n",
       "      <td>NaN</td>\n",
       "      <td>NaN</td>\n",
       "      <td>Afternoon</td>\n",
       "      <td>Afternoon</td>\n",
       "      <td>60</td>\n",
       "      <td>0</td>\n",
       "      <td>16</td>\n",
       "    </tr>\n",
       "    <tr>\n",
       "      <th>226</th>\n",
       "      <td>CXR0015</td>\n",
       "      <td>VietJet Air</td>\n",
       "      <td>1142489</td>\n",
       "      <td>Nha Trang (CXR)\\nSân bay Cam Ranh</td>\n",
       "      <td>NaN</td>\n",
       "      <td>NaN</td>\n",
       "      <td>Afternoon</td>\n",
       "      <td>Afternoon</td>\n",
       "      <td>60</td>\n",
       "      <td>0</td>\n",
       "      <td>15</td>\n",
       "    </tr>\n",
       "    <tr>\n",
       "      <th>424</th>\n",
       "      <td>CXR0035</td>\n",
       "      <td>VietJet Air</td>\n",
       "      <td>831915</td>\n",
       "      <td>Nha Trang (CXR)\\nSân bay Cam Ranh</td>\n",
       "      <td>NaN</td>\n",
       "      <td>NaN</td>\n",
       "      <td>Evening</td>\n",
       "      <td>Evening</td>\n",
       "      <td>60</td>\n",
       "      <td>1</td>\n",
       "      <td>16</td>\n",
       "    </tr>\n",
       "    <tr>\n",
       "      <th>508</th>\n",
       "      <td>CXR0042</td>\n",
       "      <td>VietJet Air</td>\n",
       "      <td>831915</td>\n",
       "      <td>Nha Trang (CXR)\\nSân bay Cam Ranh</td>\n",
       "      <td>NaN</td>\n",
       "      <td>NaN</td>\n",
       "      <td>Evening</td>\n",
       "      <td>Evening</td>\n",
       "      <td>60</td>\n",
       "      <td>1</td>\n",
       "      <td>16</td>\n",
       "    </tr>\n",
       "    <tr>\n",
       "      <th>...</th>\n",
       "      <td>...</td>\n",
       "      <td>...</td>\n",
       "      <td>...</td>\n",
       "      <td>...</td>\n",
       "      <td>...</td>\n",
       "      <td>...</td>\n",
       "      <td>...</td>\n",
       "      <td>...</td>\n",
       "      <td>...</td>\n",
       "      <td>...</td>\n",
       "      <td>...</td>\n",
       "    </tr>\n",
       "    <tr>\n",
       "      <th>40084</th>\n",
       "      <td>PQC0121</td>\n",
       "      <td>VietJet Air</td>\n",
       "      <td>837000</td>\n",
       "      <td>Phú Quốc (PQC)\\nSân bay Phú Quốc</td>\n",
       "      <td>NaN</td>\n",
       "      <td>NaN</td>\n",
       "      <td>Afternoon</td>\n",
       "      <td>Evening</td>\n",
       "      <td>60</td>\n",
       "      <td>0</td>\n",
       "      <td>16</td>\n",
       "    </tr>\n",
       "    <tr>\n",
       "      <th>40247</th>\n",
       "      <td>PQC0171</td>\n",
       "      <td>Vietnam Airlines</td>\n",
       "      <td>879056</td>\n",
       "      <td>Phú Quốc (PQC)\\nSân bay Phú Quốc</td>\n",
       "      <td>NaN</td>\n",
       "      <td>NaN</td>\n",
       "      <td>Morning</td>\n",
       "      <td>Morning</td>\n",
       "      <td>55</td>\n",
       "      <td>0</td>\n",
       "      <td>12</td>\n",
       "    </tr>\n",
       "    <tr>\n",
       "      <th>40262</th>\n",
       "      <td>PQC0172</td>\n",
       "      <td>Vietnam Airlines</td>\n",
       "      <td>879056</td>\n",
       "      <td>Phú Quốc (PQC)\\nSân bay Phú Quốc</td>\n",
       "      <td>NaN</td>\n",
       "      <td>NaN</td>\n",
       "      <td>Morning</td>\n",
       "      <td>Morning</td>\n",
       "      <td>55</td>\n",
       "      <td>0</td>\n",
       "      <td>13</td>\n",
       "    </tr>\n",
       "    <tr>\n",
       "      <th>40492</th>\n",
       "      <td>PQC0171</td>\n",
       "      <td>Vietnam Airlines</td>\n",
       "      <td>866133</td>\n",
       "      <td>Phú Quốc (PQC)\\nSân bay Phú Quốc</td>\n",
       "      <td>NaN</td>\n",
       "      <td>NaN</td>\n",
       "      <td>Morning</td>\n",
       "      <td>Morning</td>\n",
       "      <td>55</td>\n",
       "      <td>0</td>\n",
       "      <td>11</td>\n",
       "    </tr>\n",
       "    <tr>\n",
       "      <th>40506</th>\n",
       "      <td>PQC0172</td>\n",
       "      <td>Vietnam Airlines</td>\n",
       "      <td>866133</td>\n",
       "      <td>Phú Quốc (PQC)\\nSân bay Phú Quốc</td>\n",
       "      <td>NaN</td>\n",
       "      <td>NaN</td>\n",
       "      <td>Morning</td>\n",
       "      <td>Morning</td>\n",
       "      <td>55</td>\n",
       "      <td>0</td>\n",
       "      <td>12</td>\n",
       "    </tr>\n",
       "  </tbody>\n",
       "</table>\n",
       "<p>155 rows × 11 columns</p>\n",
       "</div>"
      ],
      "text/plain": [
       "            id             brand    price                        destination  \\\n",
       "5      CXR0002       VietJet Air   818157  Nha Trang (CXR)\\nSân bay Cam Ranh   \n",
       "225    CXR0015       VietJet Air  1286535  Nha Trang (CXR)\\nSân bay Cam Ranh   \n",
       "226    CXR0015       VietJet Air  1142489  Nha Trang (CXR)\\nSân bay Cam Ranh   \n",
       "424    CXR0035       VietJet Air   831915  Nha Trang (CXR)\\nSân bay Cam Ranh   \n",
       "508    CXR0042       VietJet Air   831915  Nha Trang (CXR)\\nSân bay Cam Ranh   \n",
       "...        ...               ...      ...                                ...   \n",
       "40084  PQC0121       VietJet Air   837000   Phú Quốc (PQC)\\nSân bay Phú Quốc   \n",
       "40247  PQC0171  Vietnam Airlines   879056   Phú Quốc (PQC)\\nSân bay Phú Quốc   \n",
       "40262  PQC0172  Vietnam Airlines   879056   Phú Quốc (PQC)\\nSân bay Phú Quốc   \n",
       "40492  PQC0171  Vietnam Airlines   866133   Phú Quốc (PQC)\\nSân bay Phú Quốc   \n",
       "40506  PQC0172  Vietnam Airlines   866133   Phú Quốc (PQC)\\nSân bay Phú Quốc   \n",
       "\n",
       "       checked_baggage  hand_luggage start_hour   end_hour  trip_mins  \\\n",
       "5                  NaN           NaN  Afternoon  Afternoon         60   \n",
       "225                NaN           NaN  Afternoon  Afternoon         60   \n",
       "226                NaN           NaN  Afternoon  Afternoon         60   \n",
       "424                NaN           NaN    Evening    Evening         60   \n",
       "508                NaN           NaN    Evening    Evening         60   \n",
       "...                ...           ...        ...        ...        ...   \n",
       "40084              NaN           NaN  Afternoon    Evening         60   \n",
       "40247              NaN           NaN    Morning    Morning         55   \n",
       "40262              NaN           NaN    Morning    Morning         55   \n",
       "40492              NaN           NaN    Morning    Morning         55   \n",
       "40506              NaN           NaN    Morning    Morning         55   \n",
       "\n",
       "       is_holiday  days_left  \n",
       "5               0         20  \n",
       "225             0         16  \n",
       "226             0         15  \n",
       "424             1         16  \n",
       "508             1         16  \n",
       "...           ...        ...  \n",
       "40084           0         16  \n",
       "40247           0         12  \n",
       "40262           0         13  \n",
       "40492           0         11  \n",
       "40506           0         12  \n",
       "\n",
       "[155 rows x 11 columns]"
      ]
     },
     "execution_count": 31,
     "metadata": {},
     "output_type": "execute_result"
    }
   ],
   "source": [
    "df[df['hand_luggage'].isnull() | df['checked_baggage'].isnull()]"
   ]
  },
  {
   "cell_type": "code",
   "execution_count": 32,
   "id": "004777d9",
   "metadata": {},
   "outputs": [
    {
     "data": {
      "text/plain": [
       "array(['VietJet Air', 'Vietnam Airlines'], dtype=object)"
      ]
     },
     "execution_count": 32,
     "metadata": {},
     "output_type": "execute_result"
    }
   ],
   "source": [
    "brand_null_luggage = df[df['hand_luggage'].isnull() | df['checked_baggage'].isnull()]['brand'].unique()\n",
    "brand_null_luggage"
   ]
  },
  {
   "cell_type": "code",
   "execution_count": 33,
   "id": "983273df",
   "metadata": {},
   "outputs": [],
   "source": [
    "# VietJet Air\n",
    "mask = (df['brand'] == 'VietJet Air') & (df['hand_luggage'].isna())\n",
    "df.loc[mask, 'hand_luggage'] = 7\n",
    "df.loc[mask, 'checked_baggage'] = 0\n",
    "\n",
    "# Vietnam Airlines\n",
    "mask = (df['brand'] == 'Vietnam Airlines') & (df['hand_luggage'].isna())\n",
    "df.loc[mask, 'hand_luggage'] = 12\n",
    "df.loc[mask, 'checked_baggage'] = 23"
   ]
  },
  {
   "cell_type": "code",
   "execution_count": 34,
   "id": "bad7511d",
   "metadata": {},
   "outputs": [],
   "source": [
    "df['hand_luggage'] = df['hand_luggage'].astype(int)\n",
    "df['checked_baggage'] = df['checked_baggage'].astype(int)"
   ]
  },
  {
   "cell_type": "code",
   "execution_count": 35,
   "metadata": {},
   "outputs": [
    {
     "data": {
      "text/html": [
       "<div>\n",
       "<style scoped>\n",
       "    .dataframe tbody tr th:only-of-type {\n",
       "        vertical-align: middle;\n",
       "    }\n",
       "\n",
       "    .dataframe tbody tr th {\n",
       "        vertical-align: top;\n",
       "    }\n",
       "\n",
       "    .dataframe thead th {\n",
       "        text-align: right;\n",
       "    }\n",
       "</style>\n",
       "<table border=\"1\" class=\"dataframe\">\n",
       "  <thead>\n",
       "    <tr style=\"text-align: right;\">\n",
       "      <th></th>\n",
       "      <th>id</th>\n",
       "      <th>brand</th>\n",
       "      <th>price</th>\n",
       "      <th>destination</th>\n",
       "      <th>checked_baggage</th>\n",
       "      <th>hand_luggage</th>\n",
       "      <th>start_hour</th>\n",
       "      <th>end_hour</th>\n",
       "      <th>trip_mins</th>\n",
       "      <th>is_holiday</th>\n",
       "      <th>days_left</th>\n",
       "    </tr>\n",
       "  </thead>\n",
       "  <tbody>\n",
       "    <tr>\n",
       "      <th>0</th>\n",
       "      <td>CXR0001</td>\n",
       "      <td>VietJet Air</td>\n",
       "      <td>1892258</td>\n",
       "      <td>Nha Trang (CXR)\\nSân bay Cam Ranh</td>\n",
       "      <td>0</td>\n",
       "      <td>7</td>\n",
       "      <td>Afternoon</td>\n",
       "      <td>Afternoon</td>\n",
       "      <td>60</td>\n",
       "      <td>3</td>\n",
       "      <td>17</td>\n",
       "    </tr>\n",
       "    <tr>\n",
       "      <th>1</th>\n",
       "      <td>CXR0001</td>\n",
       "      <td>VietJet Air</td>\n",
       "      <td>1431413</td>\n",
       "      <td>Nha Trang (CXR)\\nSân bay Cam Ranh</td>\n",
       "      <td>0</td>\n",
       "      <td>7</td>\n",
       "      <td>Afternoon</td>\n",
       "      <td>Afternoon</td>\n",
       "      <td>60</td>\n",
       "      <td>3</td>\n",
       "      <td>16</td>\n",
       "    </tr>\n",
       "    <tr>\n",
       "      <th>2</th>\n",
       "      <td>CXR0001</td>\n",
       "      <td>VietJet Air</td>\n",
       "      <td>1327929</td>\n",
       "      <td>Nha Trang (CXR)\\nSân bay Cam Ranh</td>\n",
       "      <td>0</td>\n",
       "      <td>7</td>\n",
       "      <td>Afternoon</td>\n",
       "      <td>Afternoon</td>\n",
       "      <td>60</td>\n",
       "      <td>3</td>\n",
       "      <td>15</td>\n",
       "    </tr>\n",
       "    <tr>\n",
       "      <th>3</th>\n",
       "      <td>CXR0001</td>\n",
       "      <td>VietJet Air</td>\n",
       "      <td>1283783</td>\n",
       "      <td>Nha Trang (CXR)\\nSân bay Cam Ranh</td>\n",
       "      <td>0</td>\n",
       "      <td>7</td>\n",
       "      <td>Afternoon</td>\n",
       "      <td>Afternoon</td>\n",
       "      <td>60</td>\n",
       "      <td>3</td>\n",
       "      <td>14</td>\n",
       "    </tr>\n",
       "    <tr>\n",
       "      <th>4</th>\n",
       "      <td>CXR0001</td>\n",
       "      <td>VietJet Air</td>\n",
       "      <td>1285778</td>\n",
       "      <td>Nha Trang (CXR)\\nSân bay Cam Ranh</td>\n",
       "      <td>0</td>\n",
       "      <td>7</td>\n",
       "      <td>Afternoon</td>\n",
       "      <td>Afternoon</td>\n",
       "      <td>60</td>\n",
       "      <td>3</td>\n",
       "      <td>13</td>\n",
       "    </tr>\n",
       "  </tbody>\n",
       "</table>\n",
       "</div>"
      ],
      "text/plain": [
       "        id        brand    price                        destination  \\\n",
       "0  CXR0001  VietJet Air  1892258  Nha Trang (CXR)\\nSân bay Cam Ranh   \n",
       "1  CXR0001  VietJet Air  1431413  Nha Trang (CXR)\\nSân bay Cam Ranh   \n",
       "2  CXR0001  VietJet Air  1327929  Nha Trang (CXR)\\nSân bay Cam Ranh   \n",
       "3  CXR0001  VietJet Air  1283783  Nha Trang (CXR)\\nSân bay Cam Ranh   \n",
       "4  CXR0001  VietJet Air  1285778  Nha Trang (CXR)\\nSân bay Cam Ranh   \n",
       "\n",
       "   checked_baggage  hand_luggage start_hour   end_hour  trip_mins  is_holiday  \\\n",
       "0                0             7  Afternoon  Afternoon         60           3   \n",
       "1                0             7  Afternoon  Afternoon         60           3   \n",
       "2                0             7  Afternoon  Afternoon         60           3   \n",
       "3                0             7  Afternoon  Afternoon         60           3   \n",
       "4                0             7  Afternoon  Afternoon         60           3   \n",
       "\n",
       "   days_left  \n",
       "0         17  \n",
       "1         16  \n",
       "2         15  \n",
       "3         14  \n",
       "4         13  "
      ]
     },
     "execution_count": 35,
     "metadata": {},
     "output_type": "execute_result"
    }
   ],
   "source": [
    "df.head()"
   ]
  },
  {
   "cell_type": "code",
   "execution_count": 36,
   "id": "9fcf6dad",
   "metadata": {},
   "outputs": [
    {
     "data": {
      "text/plain": [
       "id                 0\n",
       "brand              0\n",
       "price              0\n",
       "destination        0\n",
       "checked_baggage    0\n",
       "hand_luggage       0\n",
       "start_hour         0\n",
       "end_hour           0\n",
       "trip_mins          0\n",
       "is_holiday         0\n",
       "days_left          0\n",
       "dtype: int64"
      ]
     },
     "execution_count": 36,
     "metadata": {},
     "output_type": "execute_result"
    }
   ],
   "source": [
    "df.isna().sum()"
   ]
  },
  {
   "cell_type": "code",
   "execution_count": 38,
   "metadata": {},
   "outputs": [],
   "source": [
    "df.to_csv('cleaned_file.csv', index=False)"
   ]
  }
 ],
 "metadata": {
  "kernelspec": {
   "display_name": "Python 3",
   "language": "python",
   "name": "python3"
  },
  "language_info": {
   "codemirror_mode": {
    "name": "ipython",
    "version": 3
   },
   "file_extension": ".py",
   "mimetype": "text/x-python",
   "name": "python",
   "nbconvert_exporter": "python",
   "pygments_lexer": "ipython3",
   "version": "3.12.5"
  }
 },
 "nbformat": 4,
 "nbformat_minor": 5
}
